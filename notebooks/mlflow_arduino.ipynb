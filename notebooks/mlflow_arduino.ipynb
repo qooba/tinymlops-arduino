{
 "cells": [
  {
   "cell_type": "markdown",
   "id": "7474d84b",
   "metadata": {},
   "source": [
    "# Customer propensity to purchase"
   ]
  },
  {
   "cell_type": "code",
   "execution_count": null,
   "id": "5568641e",
   "metadata": {},
   "outputs": [],
   "source": [
    "# default_exp train"
   ]
  },
  {
   "cell_type": "markdown",
   "id": "1f10373e-7cd4-4adc-850f-19e097a9651c",
   "metadata": {},
   "source": [
    "# Prepare data "
   ]
  },
  {
   "cell_type": "markdown",
   "id": "f57f3f46-b4e4-483e-b92a-e48ecaa05b81",
   "metadata": {},
   "source": [
    "## Prepare bucket"
   ]
  },
  {
   "cell_type": "code",
   "execution_count": null,
   "id": "2b721b95-8d81-46db-babe-d4f9aca394a3",
   "metadata": {},
   "outputs": [],
   "source": [
    "#hide\n",
    "import os\n",
    "import boto3\n",
    "\n",
    "mlflow_bucket_name=\"mlflow\"\n",
    "s3_client = boto3.client('s3', endpoint_url=os.environ['MLFLOW_S3_ENDPOINT_URL'])\n",
    "s3_client.create_bucket(Bucket=mlflow_bucket_name)"
   ]
  },
  {
   "cell_type": "code",
   "execution_count": null,
   "id": "78efc9c7",
   "metadata": {},
   "outputs": [],
   "source": [
    "#export\n",
    "import os\n",
    "import pandas as pd\n",
    "import warnings\n",
    "import sys\n",
    "import numpy as np\n",
    "import joblib\n",
    "import tensorflow as tf\n",
    "import fileinput\n",
    "import sklearn\n",
    "from sklearn.model_selection import train_test_split\n",
    "from tensorflow.keras import layers\n",
    "from tensorflow.keras.layers.experimental import preprocessing"
   ]
  },
  {
   "cell_type": "markdown",
   "id": "09e7dc6f",
   "metadata": {},
   "source": [
    "## Train and load to mlflow  "
   ]
  },
  {
   "cell_type": "markdown",
   "id": "fc25d052-f11b-4c31-9ad8-4ec71ad0e75b",
   "metadata": {},
   "source": [
    "### Train, Save and Evaluate "
   ]
  },
  {
   "cell_type": "code",
   "execution_count": null,
   "id": "e8e8afe4-0229-4875-ad77-ebd9993baff5",
   "metadata": {},
   "outputs": [],
   "source": [
    "#export\n",
    "\n",
    "classes = []\n",
    "\n",
    "for file in os.listdir('./data'):\n",
    "    if file.endswith(\".csv\"):\n",
    "        classes.append(os.path.splitext(file)[0])\n",
    "\n",
    "classes.sort()\n",
    "\n",
    "num_classes = len(classes)\n",
    "\n",
    "input_list = []\n",
    "output_list = []\n",
    "\n",
    "\n",
    "e=np.eye(3)\n",
    "for index in range(num_classes):\n",
    "    class_file = classes[index]\n",
    "    df = pd.read_csv(f\"./data/{class_file}.csv\")\n",
    "    input_list.append(df)\n",
    "    #output_list.append(np.full((df.shape[0],1),index))\n",
    "    output_list.append(np.full((df.shape[0],num_classes),e[index]))\n",
    "    \n",
    "    \n",
    "X = pd.concat(input_list, axis=0).to_numpy()\n",
    "y = np.vstack(output_list)\n",
    "\n",
    "X_train, X_test, y_train, y_test = train_test_split(X, y, test_size=0.2)\n",
    "X_train, X_val, y_train, y_val = train_test_split(X_train, y_train, test_size=0.2)"
   ]
  },
  {
   "cell_type": "code",
   "execution_count": null,
   "id": "54140be3-8e26-4afa-a478-ae1f9cee9f49",
   "metadata": {
    "scrolled": true,
    "tags": []
   },
   "outputs": [],
   "source": [
    "#export\n",
    "model = tf.keras.Sequential([\n",
    "  layers.Dense(8, activation='relu'),\n",
    "  layers.Dense(5, activation='relu'),\n",
    "  layers.Dense(num_classes, activation='softmax'),\n",
    "])\n",
    "\n",
    "model.compile(optimizer='adam', loss='mse', metrics=['mae','accuracy'])\n",
    "history = model.fit(X_train, y_train, epochs=400, batch_size=4, validation_data=(X_val, y_val))"
   ]
  },
  {
   "cell_type": "code",
   "execution_count": null,
   "id": "b79b3154-d91c-4781-ab2e-42a4b2356719",
   "metadata": {},
   "outputs": [],
   "source": [
    "#export\n",
    "loss, mae, accuracy = model.evaluate(X_test, y_test)\n",
    "print(\"Accuracy\", accuracy)\n",
    "print(\"MAE\", mae)"
   ]
  },
  {
   "cell_type": "code",
   "execution_count": null,
   "id": "b2f277cc-29a0-4244-a53d-04b4dd6bedc9",
   "metadata": {},
   "outputs": [],
   "source": [
    "#export\n",
    "converter = tf.lite.TFLiteConverter.from_keras_model(model)\n",
    "tflite_model = converter.convert()\n",
    "\n",
    "with open('model.tflite','wb') as f:\n",
    "    f.write(tflite_model)\n",
    "\n",
    "with open('model.h','w') as f:\n",
    "    f.write('const unsigned char model[] = {\\n')\n",
    "    \n",
    "    size=12\n",
    "    l=int(len(tflite_model) / 12)\n",
    "    if len(tflite_model) % 12 != 0:\n",
    "        l=l+1\n",
    "\n",
    "    for i in range(l):\n",
    "        end=\"\\n\" if i == l-1 else \",\\n\"\n",
    "        f.write('  '+', '.join([f'0x{hex(i)[2:].rjust(2, \"0\")}' for i in tflite_model[i*size:i*size+size]])+end) \n",
    "    f.write('};\\n')\n",
    "    \n",
    "arduino_env = [\n",
    "    \"Arduino_TensorFlowLite@2.4.0-ALPHA\",\n",
    "    \"Arduino_APDS9960@1.0.3\",\n",
    "    \"Arduino_HTS221@1.0.0\",\n",
    "    \"Arduino_LPS22HB@1.0.1\",\n",
    "    \"Arduino_LSM9DS1@1.1.0\",\n",
    "    \"arduinoFFT@1.5.6\"\n",
    "]\n",
    "\n",
    "with open('requirements.ino.txt','w') as f:\n",
    "    for env in arduino_env:\n",
    "        f.write(f\"{env}\\n\")\n",
    "        \n",
    "artifacts = {\n",
    "    \"tfmodel\": 'model.tflite',\n",
    "    \"model_header\": \"model.h\",\n",
    "    \"requirements.ino.txt\": \"requirements.ino.txt\",\n",
    "    \"artifacts\": \"artifacts.ino\"\n",
    "}"
   ]
  },
  {
   "cell_type": "markdown",
   "id": "25073cb6-0306-4ea2-bd76-6a25301afc1b",
   "metadata": {},
   "source": [
    "### Custom MLflow model wrapper"
   ]
  },
  {
   "cell_type": "code",
   "execution_count": null,
   "id": "1cacf84c-3f80-4d26-be2f-3224b61398bf",
   "metadata": {},
   "outputs": [],
   "source": [
    "#export \n",
    "import mlflow.pyfunc\n",
    "class ArduinoWrapper(mlflow.pyfunc.PythonModel):\n",
    "    def load_context(self, context): ...\n",
    "    def predict(self, context, model_input): ..."
   ]
  },
  {
   "cell_type": "markdown",
   "id": "6072abf1-8b69-4b81-8597-872d4773231a",
   "metadata": {},
   "source": [
    "### Conda environment "
   ]
  },
  {
   "cell_type": "code",
   "execution_count": null,
   "id": "41ce6292-0f17-4012-99aa-ea5b95438b7f",
   "metadata": {},
   "outputs": [],
   "source": [
    "#export \n",
    "from sys import version_info\n",
    "import sklearn\n",
    "import cloudpickle\n",
    "\n",
    "PYTHON_VERSION = f\"{version_info.major}.{version_info.minor}.{version_info.micro}\"\n",
    "\n",
    "conda_env = {\n",
    "    'channels': ['defaults'],\n",
    "    'dependencies': [\n",
    "        f'python={PYTHON_VERSION}',\n",
    "        'pip',\n",
    "        {\n",
    "            'pip':[\n",
    "                'mlflow',\n",
    "                f'scikit-learn=={sklearn.__version__}',\n",
    "                f'tensorflow=={tf.__version__}'\n",
    "            ]\n",
    "        }\n",
    "    ],\n",
    "    'name': 'serving_propensity_model'\n",
    "}"
   ]
  },
  {
   "cell_type": "code",
   "execution_count": null,
   "id": "05dbfeeb",
   "metadata": {},
   "outputs": [],
   "source": [
    "#export\n",
    "import os\n",
    "os.environ['MLFLOW_TRACKING_URI']='http://mlflow:5000'\n",
    "\n",
    "import warnings\n",
    "import sys\n",
    "\n",
    "import pandas as pd\n",
    "import numpy as np\n",
    "from sklearn.metrics import mean_squared_error, mean_absolute_error, r2_score\n",
    "from sklearn.model_selection import train_test_split\n",
    "from sklearn.linear_model import ElasticNet\n",
    "from urllib.parse import urlparse\n",
    "import mlflow\n",
    "import mlflow.sklearn\n",
    "import mlflow.pyfunc\n",
    "\n",
    "#conda_env=mlflow.pyfunc.get_default_conda_env()\n",
    "\n",
    "with mlflow.start_run():\n",
    "    \n",
    "    #mlflow.log_param(\"var_smoothing\", input_params['var_smoothing'])\n",
    "    mlflow.log_metric(\"Accuracy\", accuracy)\n",
    "    mlflow.log_metric(\"MAE\", mae)\n",
    "    \n",
    "    tracking_url_type_store = urlparse(mlflow.get_tracking_uri()).scheme\n",
    "\n",
    "    if tracking_url_type_store != \"file\":\n",
    "        mlflow.pyfunc.log_model(\"model\",\n",
    "                                 registered_model_name=\"arduino_model\",\n",
    "                                 python_model=ArduinoWrapper(),\n",
    "                                 artifacts=artifacts,\n",
    "                                 conda_env=conda_env)\n",
    "    else:\n",
    "        mlflow.pyfunc.log_model(\"model\",\n",
    "                                 path=my_model_path,\n",
    "                                 python_model=ArduinoWrapper(),\n",
    "                                 artifacts=artifacts,\n",
    "                                 conda_env=conda_env)"
   ]
  },
  {
   "cell_type": "markdown",
   "id": "b2a123e4",
   "metadata": {},
   "source": [
    "## Export train code "
   ]
  },
  {
   "cell_type": "markdown",
   "id": "d45fc67f",
   "metadata": {},
   "source": [
    "The above code will be exported to the python file using nbdev library (export, hide, default_exp keyworkd are needed ) "
   ]
  },
  {
   "cell_type": "code",
   "execution_count": null,
   "id": "da45f940",
   "metadata": {},
   "outputs": [],
   "source": [
    "#hide\n",
    "from nbdev.export import *\n",
    "notebook2script()"
   ]
  },
  {
   "cell_type": "markdown",
   "id": "0944f3ee",
   "metadata": {},
   "source": [
    "## Train from command using mlflow"
   ]
  },
  {
   "cell_type": "code",
   "execution_count": null,
   "id": "03b9f418",
   "metadata": {
    "scrolled": true,
    "tags": []
   },
   "outputs": [],
   "source": [
    "!mlflow run . --no-conda --experiment-name=\"arduino\""
   ]
  }
 ],
 "metadata": {
  "kernelspec": {
   "display_name": "Python 3 (ipykernel)",
   "language": "python",
   "name": "python3"
  },
  "language_info": {
   "codemirror_mode": {
    "name": "ipython",
    "version": 3
   },
   "file_extension": ".py",
   "mimetype": "text/x-python",
   "name": "python",
   "nbconvert_exporter": "python",
   "pygments_lexer": "ipython3",
   "version": "3.8.5"
  }
 },
 "nbformat": 4,
 "nbformat_minor": 5
}
